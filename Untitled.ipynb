{
 "cells": [
  {
   "cell_type": "code",
   "execution_count": 2,
   "id": "2b297596-2c04-4473-b19a-72160272b4f2",
   "metadata": {},
   "outputs": [
    {
     "data": {
      "application/vnd.jupyter.widget-view+json": {
       "model_id": "0c3dd087e99e4c2db75a4b4c83bcedb2",
       "version_major": 2,
       "version_minor": 0
      },
      "text/plain": [
       "interactive(children=(FloatLogSlider(value=1.0, continuous_update=False, description='C:', max=2.0, min=-2.0),…"
      ]
     },
     "metadata": {},
     "output_type": "display_data"
    },
    {
     "data": {
      "text/plain": [
       "<function __main__.plot_svm(C=1.0, gamma=0.1)>"
      ]
     },
     "execution_count": 2,
     "metadata": {},
     "output_type": "execute_result"
    }
   ],
   "source": [
    "import numpy as np\n",
    "import matplotlib.pyplot as plt\n",
    "from sklearn import datasets\n",
    "from sklearn.svm import SVC\n",
    "from sklearn.model_selection import train_test_split\n",
    "import ipywidgets as widgets\n",
    "from ipywidgets import interact\n",
    "\n",
    "# Generate synthetic data\n",
    "X, y = datasets.make_blobs(n_samples=100, centers=2, random_state=6)\n",
    "X_train, X_test, y_train, y_test = train_test_split(X, y, test_size=0.2, random_state=42)\n",
    "\n",
    "# Function to create and plot SVM decision boundary\n",
    "def plot_svm(C=1.0, gamma=0.1):\n",
    "    # Train the SVM model\n",
    "    model = SVC(C=C, gamma=gamma, kernel='rbf')\n",
    "    model.fit(X_train, y_train)\n",
    "\n",
    "    # Create a mesh grid for plotting decision boundary\n",
    "    x_min, x_max = X[:, 0].min() - 1, X[:, 0].max() + 1\n",
    "    y_min, y_max = X[:, 1].min() - 1, X[:, 1].max() + 1\n",
    "    xx, yy = np.meshgrid(np.arange(x_min, x_max, 0.01),\n",
    "                         np.arange(y_min, y_max, 0.01))\n",
    "\n",
    "    # Predict the labels for each point in the mesh grid\n",
    "    Z = model.predict(np.c_[xx.ravel(), yy.ravel()])\n",
    "    Z = Z.reshape(xx.shape)\n",
    "\n",
    "    # Plot the decision boundary\n",
    "    plt.contourf(xx, yy, Z, alpha=0.8, cmap=plt.cm.coolwarm)\n",
    "    plt.scatter(X_train[:, 0], X_train[:, 1], c=y_train, s=30, cmap=plt.cm.coolwarm, edgecolors='k')\n",
    "\n",
    "    # Mark support vectors\n",
    "    plt.scatter(model.support_vectors_[:, 0], model.support_vectors_[:, 1], s=100, facecolors='none', edgecolors='k', label='Support Vectors')\n",
    "\n",
    "    # Plot formatting\n",
    "    plt.title(f'SVM Decision Boundary (C={C}, gamma={gamma})')\n",
    "    plt.xlabel('Feature 1')\n",
    "    plt.ylabel('Feature 2')\n",
    "    plt.legend()\n",
    "    plt.show()\n",
    "\n",
    "# Interactive widgets to control C and gamma\n",
    "C_slider = widgets.FloatLogSlider(value=1.0, base=10, min=-2, max=2, step=0.1, description='C:', continuous_update=False)\n",
    "gamma_slider = widgets.FloatLogSlider(value=0.1, base=10, min=-4, max=1, step=0.1, description='Gamma:', continuous_update=False)\n",
    "\n",
    "# Interactive function\n",
    "interact(plot_svm, C=C_slider, gamma=gamma_slider)\n"
   ]
  },
  {
   "cell_type": "code",
   "execution_count": null,
   "id": "c451e716-bcad-491d-8a00-94dc61bbb27f",
   "metadata": {},
   "outputs": [],
   "source": []
  }
 ],
 "metadata": {
  "kernelspec": {
   "display_name": "Python 3 (ipykernel)",
   "language": "python",
   "name": "python3"
  },
  "language_info": {
   "codemirror_mode": {
    "name": "ipython",
    "version": 3
   },
   "file_extension": ".py",
   "mimetype": "text/x-python",
   "name": "python",
   "nbconvert_exporter": "python",
   "pygments_lexer": "ipython3",
   "version": "3.10.12"
  }
 },
 "nbformat": 4,
 "nbformat_minor": 5
}
